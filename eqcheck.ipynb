{
 "cells": [
  {
   "cell_type": "code",
   "execution_count": 249,
   "metadata": {},
   "outputs": [
    {
     "name": "stdout",
     "output_type": "stream",
     "text": [
      "Charge balance:\n",
      "-2*CO3 + 2*Ca + CaF - Cl - F + H - H2PO4 - HCO3 - 2*HPO4 + 2*Mg + MgF + MgH2PO4 + MgOH - MgPO4 + Na - OH - 3*PO4 + 2*Sr\n",
      "\n",
      "Totals:\n",
      "Mg + MgCO3 + MgF + MgH2PO4 + MgHPO4 + MgOH + MgPO4\n",
      "Ca + CaCO3 + CaF\n",
      "CaF + F + HF + MgF\n",
      "CO2 + CO3 + CaCO3 + HCO3 + MgCO3 + SrCO3\n",
      "Sr + SrCO3\n",
      "H2PO4 + H3PO4 + HPO4 + MgH2PO4 + MgHPO4 + MgPO4 + PO4\n"
     ]
    }
   ],
   "source": [
    "from sympy import symbols\n",
    "\n",
    "Na, Cl, H, OH, Mg, MgOH, MgF, F, Ca, CaF, HCO3, CO3, CO2, HF, MgCO3, CaCO3, SrCO3, Sr, H3PO4, H2PO4, HPO4, PO4 = symbols(\n",
    "    \"Na, Cl, H, OH, Mg, MgOH, MgF, F, Ca, CaF, HCO3, CO3, CO2, HF, MgCO3, CaCO3, SrCO3, Sr, H3PO4, H2PO4, HPO4, PO4\"\n",
    ")\n",
    "MgH2PO4, MgHPO4, MgPO4, CaH2PO4, CaHPO4, CaPO4 = symbols(\"MgH2PO4, MgHPO4, MgPO4, CaH2PO4, CaHPO4, CaPO4\")\n",
    "\n",
    "CB = Na - Cl + H - OH + 2*Mg + MgOH + MgF - F + 2*Ca + CaF - HCO3 - 2*CO3 + 2*Sr - H2PO4 - 2*HPO4 - 3*PO4 + MgH2PO4 - MgPO4\n",
    "t_Mg = Mg + MgOH + MgF + MgCO3 + MgH2PO4 + MgHPO4 + MgPO4\n",
    "t_Ca = Ca + CaF + CaCO3\n",
    "t_F = HF + F + MgF + CaF\n",
    "t_CO2 = CO2 + HCO3 + CO3 + MgCO3 + CaCO3 + SrCO3\n",
    "t_Sr = Sr + SrCO3\n",
    "t_PO4 = H3PO4 + H2PO4 + HPO4 + PO4 + MgH2PO4 + MgHPO4 + MgPO4\n",
    "\n",
    "print(\"Charge balance:\")\n",
    "print(CB)\n",
    "print()\n",
    "print(\"Totals:\")\n",
    "print(t_Mg)\n",
    "print(t_Ca)\n",
    "print(t_F)\n",
    "print(t_CO2)\n",
    "print(t_Sr)\n",
    "print(t_PO4)"
   ]
  },
  {
   "cell_type": "code",
   "execution_count": 271,
   "metadata": {},
   "outputs": [
    {
     "name": "stdout",
     "output_type": "stream",
     "text": [
      "These should all be zero:\n",
      "H  : 0\n",
      "Mg : 0\n",
      "Ca : 0\n",
      "Sr : 0\n",
      "F  : 0\n",
      "PO4: 2*CO3 - 2*Ca - CaF + F + H2PO4 - H3PO4 + HCO3 + 2*HPO4 - Mg - MgF - 2*MgH2PO4 - MgOH + MgPO4 + OH + 3*PO4 - 2*Sr\n",
      "\n",
      "These should be different from each other and non-zero if independent:\n",
      "E_H - E_Mg : CO2 + CO3 + CaCO3 - CaF - F + HCO3 - HF + Mg + 2*MgCO3 + MgH2PO4 + MgHPO4 + MgOH + MgPO4 + SrCO3\n",
      "E_H - E_Ca : CO2 + CO3 + Ca + 2*CaCO3 - F + H2PO4 + H3PO4 + HCO3 - HF + HPO4 + MgCO3 - MgF + MgH2PO4 + MgHPO4 + MgPO4 + PO4 + SrCO3\n",
      "E_H - E_Sr : CO2 + CO3 + CaCO3 + H2PO4 + H3PO4 + HCO3 + HPO4 + MgCO3 + MgH2PO4 + MgHPO4 + MgPO4 + PO4 + Sr + 2*SrCO3\n",
      "E_H - E_F  : -CO2 - CO3 + 3*Ca + 2*CaCO3 + 2*CaF - 2*Cl - F - 3*H2PO4 - 3*H3PO4 - HCO3 - HF - 3*HPO4 + 3*Mg + 2*MgCO3 + 2*MgF + 3*MgOH + 2*Na - 3*PO4 + 4*Sr + 3*SrCO3\n",
      "E_H - E_PO4: 2*Ca + 2*CaCO3 + CaF - 2*Cl - F - H2PO4 - H3PO4 - HF - HPO4 + 2*Mg + 2*MgCO3 + MgF + MgH2PO4 + MgHPO4 + 2*MgOH + MgPO4 + 2*Na - PO4 + 2*Sr + 2*SrCO3\n"
     ]
    }
   ],
   "source": [
    "print(\"These should all be zero:\")\n",
    "\n",
    "L_H = (  # correct except wrong reference ZLP (switch to pH = 8?)\n",
    "    OH - H + MgOH - HF + HCO3 + 2*CO3 + HPO4 + 2*PO4 - H3PO4\n",
    "    + 2*MgCO3 + 2*CaCO3 + 2*SrCO3 + MgHPO4 + 2*MgPO4\n",
    ")\n",
    "E_H = Na - Cl + 2*t_Mg + 2*t_Ca + 2*t_Sr - t_F - t_PO4\n",
    "print(\"H  :\", L_H + CB - E_H)\n",
    "\n",
    "L_Mg = (  # finally correct and understood\n",
    "    F + CO3 - Mg - CO2 + OH - H + SrCO3 + CaCO3 + CaF - H3PO4 + HPO4 + 2*PO4 - MgH2PO4 + MgPO4\n",
    ")\n",
    "E_Mg = Na - Cl + t_Mg + 2*t_Ca + 2*t_Sr - t_CO2 - t_PO4\n",
    "print(\"Mg :\", L_Mg + CB - E_Mg)\n",
    "\n",
    "L_Ca = (  # finally correct and understood\n",
    "    F + CO3 - Ca + MgCO3 + SrCO3 - H - CO2 + OH + MgOH + MgF - 2*H3PO4 - H2PO4 + PO4 - MgH2PO4 + MgPO4\n",
    ")\n",
    "E_Ca = Na - Cl + 2*t_Mg + t_Ca + 2*t_Sr - t_CO2 - 2*t_PO4\n",
    "print(\"Ca :\", L_Ca + CB - E_Ca)\n",
    "\n",
    "L_Sr = (  # finally correct and understood\n",
    "    CO3 - Sr + MgCO3 + CaCO3 - H + OH + MgOH - CO2 - HF - 2*H3PO4 - H2PO4 + PO4 - MgH2PO4 + MgPO4\n",
    ")\n",
    "E_Sr = Na - Cl + 2*t_Ca + 2*t_Mg + t_Sr - t_CO2 - t_F - 2*t_PO4\n",
    "print(\"Sr :\", L_Sr + CB - E_Sr)\n",
    "\n",
    "L_F = (  # finally correct and understood\n",
    "    H + Mg + Ca - F - OH + CO2 - CO3 - SrCO3 + 2*H3PO4 + H2PO4 - PO4 + 2*MgH2PO4 + MgHPO4\n",
    ")\n",
    "E_F = Cl - Na + t_CO2 - t_Ca - t_Mg - 2*t_Sr + 2*t_PO4\n",
    "print(\"F  :\", L_F - CB - E_F)\n",
    "\n",
    "L_H2PO4 = (\n",
    "    H + Mg - H3PO4 - MgH2PO4\n",
    ")\n",
    "E_H2PO4 = Cl - Na\n",
    "print(\"PO4:\", L_H2PO4 - CB - E_H2PO4)\n",
    "\n",
    "print()\n",
    "print(\"These should be different from each other and non-zero if independent:\")\n",
    "print(\"E_H - E_Mg :\", E_H - E_Mg)\n",
    "print(\"E_H - E_Ca :\", E_H - E_Ca)\n",
    "print(\"E_H - E_Sr :\", E_H - E_Sr)\n",
    "print(\"E_H - E_F  :\", E_H - E_F)\n",
    "print(\"E_H - E_PO4:\", E_H - E_H2PO4)"
   ]
  },
  {
   "cell_type": "code",
   "execution_count": null,
   "metadata": {},
   "outputs": [],
   "source": []
  }
 ],
 "metadata": {
  "kernelspec": {
   "display_name": "Python 3",
   "language": "python",
   "name": "python3"
  },
  "language_info": {
   "codemirror_mode": {
    "name": "ipython",
    "version": 3
   },
   "file_extension": ".py",
   "mimetype": "text/x-python",
   "name": "python",
   "nbconvert_exporter": "python",
   "pygments_lexer": "ipython3",
   "version": "3.8.5"
  }
 },
 "nbformat": 4,
 "nbformat_minor": 4
}
