{
 "cells": [
  {
   "cell_type": "markdown",
   "metadata": {},
   "source": [
    "# How long is a piece of string?\n",
    "\n",
    "## Introduction\n",
    "\n",
    "We have a piece of string. We need to measure its length.\n",
    "\n",
    "The length of any given piece of string can in general be modelled using an equation of the form $L = x$, where $L$ is the length of string, and $x$ is a coefficient to be determined from length measurements. These measurements can be conducted using a ruler or, for long strings, a tape measure.\n",
    "\n",
    "## Method\n",
    "\n",
    "The piece of string was sent to a number of different laboratories for analysis, in rounds of 5 laboratories at a time.\n",
    "\n",
    "The first round of 5 laboratories were extremely well set up for string length research. They all had perfectly calibrated rulers with no systematic offsets. Although all of their measurements inevitably suffered from random errors, as all measurements do, each laboratory had exactly quantified the standard deviation of these errors through careful analysis of past replicate analysis results."
   ]
  },
  {
   "cell_type": "code",
   "execution_count": null,
   "metadata": {},
   "outputs": [],
   "source": [
    "import numpy as np\n"
   ]
  }
 ],
 "metadata": {
  "kernelspec": {
   "display_name": "Python 3",
   "language": "python",
   "name": "python3"
  },
  "language_info": {
   "codemirror_mode": {
    "name": "ipython",
    "version": 3
   },
   "file_extension": ".py",
   "mimetype": "text/x-python",
   "name": "python",
   "nbconvert_exporter": "python",
   "pygments_lexer": "ipython3",
   "version": "3.6.5"
  }
 },
 "nbformat": 4,
 "nbformat_minor": 2
}
